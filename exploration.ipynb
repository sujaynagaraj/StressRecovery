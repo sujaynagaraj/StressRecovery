{
 "cells": [
  {
   "cell_type": "code",
   "execution_count": 1,
   "metadata": {},
   "outputs": [],
   "source": [
    "import pandas as pd\n",
    "import matplotlib.pyplot as plt\n",
    "import seaborn as sns"
   ]
  },
  {
   "cell_type": "code",
   "execution_count": 2,
   "metadata": {},
   "outputs": [],
   "source": [
    "path = \"COVID Stress _ Recovery - Sample Data/oura/\""
   ]
  },
  {
   "cell_type": "code",
   "execution_count": 3,
   "metadata": {},
   "outputs": [],
   "source": [
    "activity = pd.read_parquet(path+\"oura_activity/participant_id=U-ZR22B6HNLFMQ9FG6UR6Y/\"+\"62a20e3762154ed8a82fb00e355e95c1.parquet\")\n",
    "\n",
    "readiness = pd.read_parquet(path+\"oura_readiness/participant_id=U-ZR22B6HNLFMQ9FG6UR6Y/\"+\"e8410b4ab5d14a58bf3bd262cf4cf50e.parquet\")\n",
    "\n",
    "sleep = pd.read_parquet(path+\"oura_sleep/participant_id=U-ZR22B6HNLFMQ9FG6UR6Y/\"+\"94f4cf0412fe47159d7f32036dca2ddd.parquet\")"
   ]
  },
  {
   "cell_type": "code",
   "execution_count": 11,
   "metadata": {},
   "outputs": [
    {
     "data": {
      "text/html": [
       "<div>\n",
       "<style scoped>\n",
       "    .dataframe tbody tr th:only-of-type {\n",
       "        vertical-align: middle;\n",
       "    }\n",
       "\n",
       "    .dataframe tbody tr th {\n",
       "        vertical-align: top;\n",
       "    }\n",
       "\n",
       "    .dataframe thead th {\n",
       "        text-align: right;\n",
       "    }\n",
       "</style>\n",
       "<table border=\"1\" class=\"dataframe\">\n",
       "  <thead>\n",
       "    <tr style=\"text-align: right;\">\n",
       "      <th></th>\n",
       "      <th>average_met</th>\n",
       "      <th>cal_active</th>\n",
       "      <th>cal_total</th>\n",
       "      <th>class_5min</th>\n",
       "      <th>daily_movement</th>\n",
       "      <th>day_end</th>\n",
       "      <th>day_start</th>\n",
       "      <th>high</th>\n",
       "      <th>inactive</th>\n",
       "      <th>inactivity_alerts</th>\n",
       "      <th>...</th>\n",
       "      <th>score_meet_daily_targets</th>\n",
       "      <th>score_move_every_hour</th>\n",
       "      <th>score_recovery_time</th>\n",
       "      <th>score_stay_active</th>\n",
       "      <th>score_training_frequency</th>\n",
       "      <th>score_training_volume</th>\n",
       "      <th>steps</th>\n",
       "      <th>summary_date</th>\n",
       "      <th>total</th>\n",
       "      <th>participant_id</th>\n",
       "    </tr>\n",
       "  </thead>\n",
       "  <tbody>\n",
       "    <tr>\n",
       "      <th>0</th>\n",
       "      <td>1.3125</td>\n",
       "      <td>146</td>\n",
       "      <td>1807</td>\n",
       "      <td>0000000000000000000000000000000000000000000000...</td>\n",
       "      <td>2788</td>\n",
       "      <td>2020-05-14T03:59:59-04:00</td>\n",
       "      <td>2020-05-13T04:00:00-04:00</td>\n",
       "      <td>0</td>\n",
       "      <td>330</td>\n",
       "      <td>0</td>\n",
       "      <td>...</td>\n",
       "      <td>1</td>\n",
       "      <td>100</td>\n",
       "      <td>100</td>\n",
       "      <td>99</td>\n",
       "      <td>1</td>\n",
       "      <td>14</td>\n",
       "      <td>3879</td>\n",
       "      <td>2020-05-13</td>\n",
       "      <td>239</td>\n",
       "      <td>U-ZR22B6HNLFMQ9FG6UR6Y</td>\n",
       "    </tr>\n",
       "    <tr>\n",
       "      <th>1</th>\n",
       "      <td>1.3750</td>\n",
       "      <td>267</td>\n",
       "      <td>1680</td>\n",
       "      <td>1111111111111111111111111111111111111111111111...</td>\n",
       "      <td>6956</td>\n",
       "      <td>2020-05-15T03:59:59-04:00</td>\n",
       "      <td>2020-05-14T04:00:00-04:00</td>\n",
       "      <td>0</td>\n",
       "      <td>393</td>\n",
       "      <td>0</td>\n",
       "      <td>...</td>\n",
       "      <td>1</td>\n",
       "      <td>100</td>\n",
       "      <td>100</td>\n",
       "      <td>95</td>\n",
       "      <td>40</td>\n",
       "      <td>42</td>\n",
       "      <td>9756</td>\n",
       "      <td>2020-05-14</td>\n",
       "      <td>288</td>\n",
       "      <td>U-ZR22B6HNLFMQ9FG6UR6Y</td>\n",
       "    </tr>\n",
       "    <tr>\n",
       "      <th>2</th>\n",
       "      <td>1.0625</td>\n",
       "      <td>14</td>\n",
       "      <td>1243</td>\n",
       "      <td>1111221111111111111111111111111111121111111122...</td>\n",
       "      <td>345</td>\n",
       "      <td>2020-05-16T03:59:59-04:00</td>\n",
       "      <td>2020-05-15T04:00:00-04:00</td>\n",
       "      <td>0</td>\n",
       "      <td>14</td>\n",
       "      <td>0</td>\n",
       "      <td>...</td>\n",
       "      <td>1</td>\n",
       "      <td>100</td>\n",
       "      <td>100</td>\n",
       "      <td>95</td>\n",
       "      <td>40</td>\n",
       "      <td>38</td>\n",
       "      <td>547</td>\n",
       "      <td>2020-05-15</td>\n",
       "      <td>25</td>\n",
       "      <td>U-ZR22B6HNLFMQ9FG6UR6Y</td>\n",
       "    </tr>\n",
       "  </tbody>\n",
       "</table>\n",
       "<p>3 rows × 30 columns</p>\n",
       "</div>"
      ],
      "text/plain": [
       "   average_met  cal_active  cal_total  \\\n",
       "0       1.3125         146       1807   \n",
       "1       1.3750         267       1680   \n",
       "2       1.0625          14       1243   \n",
       "\n",
       "                                          class_5min  daily_movement  \\\n",
       "0  0000000000000000000000000000000000000000000000...            2788   \n",
       "1  1111111111111111111111111111111111111111111111...            6956   \n",
       "2  1111221111111111111111111111111111121111111122...             345   \n",
       "\n",
       "                     day_end                  day_start  high  inactive  \\\n",
       "0  2020-05-14T03:59:59-04:00  2020-05-13T04:00:00-04:00     0       330   \n",
       "1  2020-05-15T03:59:59-04:00  2020-05-14T04:00:00-04:00     0       393   \n",
       "2  2020-05-16T03:59:59-04:00  2020-05-15T04:00:00-04:00     0        14   \n",
       "\n",
       "   inactivity_alerts  ...  score_meet_daily_targets  score_move_every_hour  \\\n",
       "0                  0  ...                         1                    100   \n",
       "1                  0  ...                         1                    100   \n",
       "2                  0  ...                         1                    100   \n",
       "\n",
       "  score_recovery_time  score_stay_active  score_training_frequency  \\\n",
       "0                 100                 99                         1   \n",
       "1                 100                 95                        40   \n",
       "2                 100                 95                        40   \n",
       "\n",
       "   score_training_volume  steps  summary_date  total          participant_id  \n",
       "0                     14   3879    2020-05-13    239  U-ZR22B6HNLFMQ9FG6UR6Y  \n",
       "1                     42   9756    2020-05-14    288  U-ZR22B6HNLFMQ9FG6UR6Y  \n",
       "2                     38    547    2020-05-15     25  U-ZR22B6HNLFMQ9FG6UR6Y  \n",
       "\n",
       "[3 rows x 30 columns]"
      ]
     },
     "execution_count": 11,
     "metadata": {},
     "output_type": "execute_result"
    }
   ],
   "source": [
    "activity.head()"
   ]
  },
  {
   "cell_type": "code",
   "execution_count": 12,
   "metadata": {},
   "outputs": [
    {
     "data": {
      "text/plain": [
       "average_met                  float64\n",
       "cal_active                     int64\n",
       "cal_total                      int64\n",
       "class_5min                    object\n",
       "daily_movement                 int64\n",
       "day_end                       object\n",
       "day_start                     object\n",
       "high                           int64\n",
       "inactive                       int64\n",
       "inactivity_alerts              int64\n",
       "low                            int64\n",
       "medium                         int64\n",
       "met_1min                      object\n",
       "met_min_high                   int64\n",
       "met_min_inactive               int64\n",
       "met_min_low                    int64\n",
       "met_min_medium                 int64\n",
       "non_wear                       int64\n",
       "rest                           int64\n",
       "score                          int64\n",
       "score_meet_daily_targets       int64\n",
       "score_move_every_hour          int64\n",
       "score_recovery_time            int64\n",
       "score_stay_active              int64\n",
       "score_training_frequency       int64\n",
       "score_training_volume          int64\n",
       "steps                          int64\n",
       "summary_date                  object\n",
       "total                          int64\n",
       "participant_id              category\n",
       "dtype: object"
      ]
     },
     "execution_count": 12,
     "metadata": {},
     "output_type": "execute_result"
    }
   ],
   "source": [
    "activity.dtypes"
   ]
  },
  {
   "cell_type": "code",
   "execution_count": 5,
   "metadata": {},
   "outputs": [
    {
     "data": {
      "text/html": [
       "<div>\n",
       "<style scoped>\n",
       "    .dataframe tbody tr th:only-of-type {\n",
       "        vertical-align: middle;\n",
       "    }\n",
       "\n",
       "    .dataframe tbody tr th {\n",
       "        vertical-align: top;\n",
       "    }\n",
       "\n",
       "    .dataframe thead th {\n",
       "        text-align: right;\n",
       "    }\n",
       "</style>\n",
       "<table border=\"1\" class=\"dataframe\">\n",
       "  <thead>\n",
       "    <tr style=\"text-align: right;\">\n",
       "      <th></th>\n",
       "      <th>period_id</th>\n",
       "      <th>score</th>\n",
       "      <th>score_activity_balance</th>\n",
       "      <th>score_hrv_balance</th>\n",
       "      <th>score_previous_day</th>\n",
       "      <th>score_previous_night</th>\n",
       "      <th>score_recovery_index</th>\n",
       "      <th>score_resting_hr</th>\n",
       "      <th>score_sleep_balance</th>\n",
       "      <th>score_temperature</th>\n",
       "      <th>summary_date</th>\n",
       "      <th>participant_id</th>\n",
       "    </tr>\n",
       "  </thead>\n",
       "  <tbody>\n",
       "    <tr>\n",
       "      <th>0</th>\n",
       "      <td>0</td>\n",
       "      <td>95</td>\n",
       "      <td>0</td>\n",
       "      <td>88.0</td>\n",
       "      <td>93</td>\n",
       "      <td>94</td>\n",
       "      <td>100</td>\n",
       "      <td>100</td>\n",
       "      <td>0</td>\n",
       "      <td>100</td>\n",
       "      <td>2020-05-13</td>\n",
       "      <td>U-ZR22B6HNLFMQ9FG6UR6Y</td>\n",
       "    </tr>\n",
       "    <tr>\n",
       "      <th>1</th>\n",
       "      <td>1</td>\n",
       "      <td>93</td>\n",
       "      <td>0</td>\n",
       "      <td>86.0</td>\n",
       "      <td>88</td>\n",
       "      <td>92</td>\n",
       "      <td>100</td>\n",
       "      <td>100</td>\n",
       "      <td>0</td>\n",
       "      <td>86</td>\n",
       "      <td>2020-05-14</td>\n",
       "      <td>U-ZR22B6HNLFMQ9FG6UR6Y</td>\n",
       "    </tr>\n",
       "  </tbody>\n",
       "</table>\n",
       "</div>"
      ],
      "text/plain": [
       "   period_id  score  score_activity_balance  score_hrv_balance  \\\n",
       "0          0     95                       0               88.0   \n",
       "1          1     93                       0               86.0   \n",
       "\n",
       "   score_previous_day  score_previous_night  score_recovery_index  \\\n",
       "0                  93                    94                   100   \n",
       "1                  88                    92                   100   \n",
       "\n",
       "   score_resting_hr  score_sleep_balance  score_temperature summary_date  \\\n",
       "0               100                    0                100   2020-05-13   \n",
       "1               100                    0                 86   2020-05-14   \n",
       "\n",
       "           participant_id  \n",
       "0  U-ZR22B6HNLFMQ9FG6UR6Y  \n",
       "1  U-ZR22B6HNLFMQ9FG6UR6Y  "
      ]
     },
     "execution_count": 5,
     "metadata": {},
     "output_type": "execute_result"
    }
   ],
   "source": [
    "readiness.head()"
   ]
  },
  {
   "cell_type": "code",
   "execution_count": 6,
   "metadata": {},
   "outputs": [
    {
     "data": {
      "text/html": [
       "<div>\n",
       "<style scoped>\n",
       "    .dataframe tbody tr th:only-of-type {\n",
       "        vertical-align: middle;\n",
       "    }\n",
       "\n",
       "    .dataframe tbody tr th {\n",
       "        vertical-align: top;\n",
       "    }\n",
       "\n",
       "    .dataframe thead th {\n",
       "        text-align: right;\n",
       "    }\n",
       "</style>\n",
       "<table border=\"1\" class=\"dataframe\">\n",
       "  <thead>\n",
       "    <tr style=\"text-align: right;\">\n",
       "      <th></th>\n",
       "      <th>awake</th>\n",
       "      <th>bedtime_end</th>\n",
       "      <th>bedtime_end_delta</th>\n",
       "      <th>bedtime_start</th>\n",
       "      <th>bedtime_start_delta</th>\n",
       "      <th>breath_average</th>\n",
       "      <th>deep</th>\n",
       "      <th>duration</th>\n",
       "      <th>efficiency</th>\n",
       "      <th>hr_5min</th>\n",
       "      <th>...</th>\n",
       "      <th>score_efficiency</th>\n",
       "      <th>score_latency</th>\n",
       "      <th>score_rem</th>\n",
       "      <th>score_total</th>\n",
       "      <th>summary_date</th>\n",
       "      <th>temperature_delta</th>\n",
       "      <th>temperature_deviation</th>\n",
       "      <th>temperature_trend_deviation</th>\n",
       "      <th>total</th>\n",
       "      <th>participant_id</th>\n",
       "    </tr>\n",
       "  </thead>\n",
       "  <tbody>\n",
       "    <tr>\n",
       "      <th>0</th>\n",
       "      <td>3390</td>\n",
       "      <td>2020-05-14T08:38:32-04:00</td>\n",
       "      <td>31112</td>\n",
       "      <td>2020-05-13T22:45:32-04:00</td>\n",
       "      <td>-4468</td>\n",
       "      <td>15.000</td>\n",
       "      <td>10710</td>\n",
       "      <td>35580</td>\n",
       "      <td>90</td>\n",
       "      <td>[0, 53, 53, 53, 53, 54, 54, 56, 57, 59, 58, 61...</td>\n",
       "      <td>...</td>\n",
       "      <td>96</td>\n",
       "      <td>91</td>\n",
       "      <td>73</td>\n",
       "      <td>100</td>\n",
       "      <td>2020-05-13</td>\n",
       "      <td>-0.13</td>\n",
       "      <td>-0.13</td>\n",
       "      <td>0.07</td>\n",
       "      <td>32190</td>\n",
       "      <td>U-ZR22B6HNLFMQ9FG6UR6Y</td>\n",
       "    </tr>\n",
       "    <tr>\n",
       "      <th>1</th>\n",
       "      <td>5070</td>\n",
       "      <td>2020-05-15T08:54:58-04:00</td>\n",
       "      <td>32098</td>\n",
       "      <td>2020-05-14T22:27:58-04:00</td>\n",
       "      <td>-5522</td>\n",
       "      <td>15.125</td>\n",
       "      <td>10020</td>\n",
       "      <td>37620</td>\n",
       "      <td>87</td>\n",
       "      <td>[65, 65, 64, 63, 0, 0, 59, 58, 58, 58, 59, 58,...</td>\n",
       "      <td>...</td>\n",
       "      <td>88</td>\n",
       "      <td>64</td>\n",
       "      <td>92</td>\n",
       "      <td>100</td>\n",
       "      <td>2020-05-14</td>\n",
       "      <td>-0.55</td>\n",
       "      <td>-0.55</td>\n",
       "      <td>-0.14</td>\n",
       "      <td>32550</td>\n",
       "      <td>U-ZR22B6HNLFMQ9FG6UR6Y</td>\n",
       "    </tr>\n",
       "  </tbody>\n",
       "</table>\n",
       "<p>2 rows × 37 columns</p>\n",
       "</div>"
      ],
      "text/plain": [
       "   awake                bedtime_end  bedtime_end_delta  \\\n",
       "0   3390  2020-05-14T08:38:32-04:00              31112   \n",
       "1   5070  2020-05-15T08:54:58-04:00              32098   \n",
       "\n",
       "               bedtime_start  bedtime_start_delta  breath_average   deep  \\\n",
       "0  2020-05-13T22:45:32-04:00                -4468          15.000  10710   \n",
       "1  2020-05-14T22:27:58-04:00                -5522          15.125  10020   \n",
       "\n",
       "   duration  efficiency                                            hr_5min  \\\n",
       "0     35580          90  [0, 53, 53, 53, 53, 54, 54, 56, 57, 59, 58, 61...   \n",
       "1     37620          87  [65, 65, 64, 63, 0, 0, 59, 58, 58, 58, 59, 58,...   \n",
       "\n",
       "   ...  score_efficiency  score_latency score_rem  score_total  summary_date  \\\n",
       "0  ...                96             91        73          100    2020-05-13   \n",
       "1  ...                88             64        92          100    2020-05-14   \n",
       "\n",
       "   temperature_delta  temperature_deviation  temperature_trend_deviation  \\\n",
       "0              -0.13                  -0.13                         0.07   \n",
       "1              -0.55                  -0.55                        -0.14   \n",
       "\n",
       "   total          participant_id  \n",
       "0  32190  U-ZR22B6HNLFMQ9FG6UR6Y  \n",
       "1  32550  U-ZR22B6HNLFMQ9FG6UR6Y  \n",
       "\n",
       "[2 rows x 37 columns]"
      ]
     },
     "execution_count": 6,
     "metadata": {},
     "output_type": "execute_result"
    }
   ],
   "source": [
    "sleep.head()"
   ]
  },
  {
   "cell_type": "code",
   "execution_count": 13,
   "metadata": {},
   "outputs": [
    {
     "data": {
      "text/plain": [
       "awake                             int64\n",
       "bedtime_end                      object\n",
       "bedtime_end_delta                 int64\n",
       "bedtime_start                    object\n",
       "bedtime_start_delta               int64\n",
       "breath_average                  float64\n",
       "deep                              int64\n",
       "duration                          int64\n",
       "efficiency                        int64\n",
       "hr_5min                          object\n",
       "hr_average                      float64\n",
       "hr_lowest                       float64\n",
       "hypnogram_5min                   object\n",
       "is_longest                        int64\n",
       "light                             int64\n",
       "midpoint_at_delta                 int64\n",
       "midpoint_time                     int64\n",
       "onset_latency                     int64\n",
       "period_id                         int64\n",
       "rem                               int64\n",
       "restless                          int64\n",
       "rmssd                           float64\n",
       "rmssd_5min                       object\n",
       "score                             int64\n",
       "score_alignment                   int64\n",
       "score_deep                        int64\n",
       "score_disturbances                int64\n",
       "score_efficiency                  int64\n",
       "score_latency                     int64\n",
       "score_rem                         int64\n",
       "score_total                       int64\n",
       "summary_date                     object\n",
       "temperature_delta               float64\n",
       "temperature_deviation           float64\n",
       "temperature_trend_deviation     float64\n",
       "total                             int64\n",
       "participant_id                 category\n",
       "dtype: object"
      ]
     },
     "execution_count": 13,
     "metadata": {},
     "output_type": "execute_result"
    }
   ],
   "source": [
    "sleep.dtypes"
   ]
  },
  {
   "cell_type": "code",
   "execution_count": 29,
   "metadata": {},
   "outputs": [
    {
     "data": {
      "text/plain": [
       "<matplotlib.axes._subplots.AxesSubplot at 0x12504e550>"
      ]
     },
     "execution_count": 29,
     "metadata": {},
     "output_type": "execute_result"
    },
    {
     "data": {
      "image/png": "[encoded data removed]",
      "text/plain": [
       "<Figure size 432x288 with 1 Axes>"
      ]
     },
     "metadata": {
      "needs_background": "light"
     },
     "output_type": "display_data"
    }
   ],
   "source": [
    "sns.lineplot(x=range(len(sleep.loc[1].hr_5min)), y=sleep.loc[1].hr_5min)"
   ]
  },
  {
   "cell_type": "code",
   "execution_count": 24,
   "metadata": {},
   "outputs": [
    {
     "data": {
      "text/plain": [
       "119"
      ]
     },
     "execution_count": 24,
     "metadata": {},
     "output_type": "execute_result"
    }
   ],
   "source": [
    "len(sleep.loc[0].hr_5min)"
   ]
  },
  {
   "cell_type": "code",
   "execution_count": 25,
   "metadata": {},
   "outputs": [
    {
     "data": {
      "text/plain": [
       "range(0, 119)"
      ]
     },
     "execution_count": 25,
     "metadata": {},
     "output_type": "execute_result"
    }
   ],
   "source": [
    "range(119)"
   ]
  },
  {
   "cell_type": "code",
   "execution_count": null,
   "metadata": {},
   "outputs": [],
   "source": []
  }
 ],
 "metadata": {
  "kernelspec": {
   "display_name": "Python 3",
   "language": "python",
   "name": "python3"
  },
  "language_info": {
   "codemirror_mode": {
    "name": "ipython",
    "version": 3
   },
   "file_extension": ".py",
   "mimetype": "text/x-python",
   "name": "python",
   "nbconvert_exporter": "python",
   "pygments_lexer": "ipython3",
   "version": "3.7.4"
  }
 },
 "nbformat": 4,
 "nbformat_minor": 4
}
