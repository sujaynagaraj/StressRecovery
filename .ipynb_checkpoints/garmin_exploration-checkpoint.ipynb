{
 "cells": [
  {
   "cell_type": "code",
   "execution_count": 2,
   "metadata": {},
   "outputs": [],
   "source": [
    "import pandas as pd\n",
    "import json\n",
    "import matplotlib.pyplot as plt\n",
    "import seaborn as sns\n",
    "import fitparse"
   ]
  },
  {
   "cell_type": "code",
   "execution_count": 4,
   "metadata": {},
   "outputs": [],
   "source": [
    "path = \"garmin_data/\""
   ]
  },
  {
   "cell_type": "code",
   "execution_count": 82,
   "metadata": {},
   "outputs": [],
   "source": [
    "with open(path+\"customer_data/customer.json\") as f:\n",
    "    customer_data = json.load(f)"
   ]
  },
  {
   "cell_type": "code",
   "execution_count": 10,
   "metadata": {
    "scrolled": true
   },
   "outputs": [
    {
     "data": {
      "text/plain": [
       "{'id': None,\n",
       " 'firstName': 'Sujay',\n",
       " 'middleName': None,\n",
       " 'lastName': None,\n",
       " 'fullName': 'Sujay',\n",
       " 'namePrefix': None,\n",
       " 'nameSuffix': None,\n",
       " 'gender': None,\n",
       " 'displayName': None,\n",
       " 'username': 'SUJAY.NGRJ@GMAIL.COM',\n",
       " 'primaryAddress': None,\n",
       " 'primaryEmailAddress': {'emailAddress': 'sujay.ngrj@gmail.com',\n",
       "  'type': None,\n",
       "  'primary': True,\n",
       "  'emailVerified': False,\n",
       "  'emailVerificationTimestamp': None,\n",
       "  'emailAddressId': '8fdd5243-6491-4863-80cd-13c577683166'},\n",
       " 'primaryPhoneNumber': None,\n",
       " 'locale': 'en_US',\n",
       " 'type': None,\n",
       " 'active': True,\n",
       " 'version': 11,\n",
       " 'lastUpdateDateTime': '2020-09-03T00:43:22Z',\n",
       " 'createdDate': '2020-08-27T16:32:27Z',\n",
       " 'customerLocation': {'countryCode': 'CA',\n",
       "  'verified': True,\n",
       "  'verifiedTimestamp': '2020-08-27T16:32:27Z'},\n",
       " 'addresses': [],\n",
       " 'emailAddresses': [],\n",
       " 'phoneNumbers': [],\n",
       " 'foreignIdentifiers': [],\n",
       " 'loginInfo': None}"
      ]
     },
     "execution_count": 10,
     "metadata": {},
     "output_type": "execute_result"
    }
   ],
   "source": [
    "#Customer MetaData\n",
    "customer_data"
   ]
  },
  {
   "cell_type": "code",
   "execution_count": 17,
   "metadata": {},
   "outputs": [],
   "source": [
    "with open(path+\"DI_CONNECT/DI-Connect-Fitness/sujay.ngrj@gmail.com_0_summarizedActivities.json\") as f:\n",
    "    activities = json.load(f)\n",
    "    \n",
    "#activity = pd.read_json(path+\"DI_CONNECT/DI-Connect-Fitness/sujay.ngrj@gmail.com_0_summarizedActivities.json\")"
   ]
  },
  {
   "cell_type": "code",
   "execution_count": 21,
   "metadata": {},
   "outputs": [
    {
     "data": {
      "text/plain": [
       "[{'summarizedActivitiesExport': [{'activityId': 5477858839,\n",
       "    'uuidMsb': -7682223143349695130,\n",
       "    'uuidLsb': -5352426744693110320,\n",
       "    'name': 'Cardio',\n",
       "    'activityType': 'indoor_cardio',\n",
       "    'userProfileId': 88509892,\n",
       "    'timeZoneId': 149,\n",
       "    'beginTimestamp': 1599069149000,\n",
       "    'eventTypeId': 9,\n",
       "    'rule': 'private',\n",
       "    'sportType': 'GENERIC',\n",
       "    'startTimeGmt': 1599069149000.0,\n",
       "    'startTimeLocal': 1599054749000.0,\n",
       "    'duration': 3023978.02734375,\n",
       "    'distance': 0.0,\n",
       "    'elevationGain': 0.0,\n",
       "    'elevationLoss': 0.0,\n",
       "    'avgSpeed': 0.0,\n",
       "    'avgHr': 141.0,\n",
       "    'maxHr': 174.0,\n",
       "    'calories': 2048.9197799999997,\n",
       "    'avgFractionalCadence': 0.0,\n",
       "    'maxFractionalCadence': 0.0,\n",
       "    'elapsedDuration': 3051573.974609375,\n",
       "    'movingDuration': 0.0,\n",
       "    'deviceId': 3316782707,\n",
       "    'minElevation': 19600.0,\n",
       "    'maxElevation': 19600.0,\n",
       "    'summarizedDiveInfo': {},\n",
       "    'maxVerticalSpeed': 0.0,\n",
       "    'lapCount': 3,\n",
       "    'waterEstimated': 302.0,\n",
       "    'parent': False,\n",
       "    'purposeful': False,\n",
       "    'autoCalcCalories': False,\n",
       "    'favorite': False,\n",
       "    'pr': False,\n",
       "    'elevationCorrected': False,\n",
       "    'atpActivity': False},\n",
       "   {'activityId': 5453729679,\n",
       "    'uuidMsb': 3275646434278720787,\n",
       "    'uuidLsb': -8695979068161260955,\n",
       "    'name': 'Cardio',\n",
       "    'activityType': 'indoor_cardio',\n",
       "    'userProfileId': 88509892,\n",
       "    'timeZoneId': 149,\n",
       "    'beginTimestamp': 1598634070000,\n",
       "    'eventTypeId': 9,\n",
       "    'rule': 'private',\n",
       "    'sportType': 'GENERIC',\n",
       "    'startTimeGmt': 1598634070000.0,\n",
       "    'startTimeLocal': 1598619670000.0,\n",
       "    'duration': 2723364.013671875,\n",
       "    'distance': 0.0,\n",
       "    'elevationGain': 0.0,\n",
       "    'elevationLoss': 0.0,\n",
       "    'avgSpeed': 0.0,\n",
       "    'avgHr': 141.0,\n",
       "    'maxHr': 174.0,\n",
       "    'calories': 1793.32856,\n",
       "    'avgFractionalCadence': 0.0,\n",
       "    'maxFractionalCadence': 0.0,\n",
       "    'elapsedDuration': 2723364.013671875,\n",
       "    'movingDuration': 0.0,\n",
       "    'deviceId': 3316782707,\n",
       "    'minElevation': 19739.999389648438,\n",
       "    'maxElevation': 19739.999389648438,\n",
       "    'summarizedDiveInfo': {},\n",
       "    'maxVerticalSpeed': 0.0,\n",
       "    'lapCount': 1,\n",
       "    'waterEstimated': 272.0,\n",
       "    'parent': False,\n",
       "    'purposeful': False,\n",
       "    'autoCalcCalories': False,\n",
       "    'favorite': False,\n",
       "    'pr': False,\n",
       "    'elevationCorrected': False,\n",
       "    'atpActivity': False}]}]"
      ]
     },
     "execution_count": 21,
     "metadata": {},
     "output_type": "execute_result"
    }
   ],
   "source": [
    "#List of dicts for Recorded Activities. ie: saved workouts. ActivityID doesnt seem to be correlated\n",
    "#with any of the .fit files\n",
    "activities"
   ]
  },
  {
   "cell_type": "code",
   "execution_count": 32,
   "metadata": {},
   "outputs": [],
   "source": [
    "\n",
    "extension = \"DI_CONNECT/DI-Connect-Fitness-Uploaded-Files/UploadedFiles_0-_Part1/\"\n",
    "filename=\"sujay.ngrj@gmail.com_65718729954.fit\"\n",
    "fitfile = fitparse.FitFile(path+extension+filename,data_processor=fitparse.StandardUnitsDataProcessor())\n",
    "\n",
    "messages = fitfile.messages\n",
    "data = []\n",
    "\n",
    "for m in messages:\n",
    "    if not hasattr(m, 'fields'):\n",
    "        continue\n",
    "    fields = m.fields\n",
    "    mdata = {}\n",
    "    for field in fields:\n",
    "        mdata[field.name] = field.value\n",
    "        data.append(mdata)\n",
    "df = pd.DataFrame(data)"
   ]
  },
  {
   "cell_type": "code",
   "execution_count": 33,
   "metadata": {},
   "outputs": [
    {
     "data": {
      "text/plain": [
       "Index(['serial_number', 'time_created', 'manufacturer', 'garmin_product',\n",
       "       'number', 'unknown_6', 'type', 'timestamp', 'software_version',\n",
       "       'version', 'local_timestamp', 'cycles_to_distance',\n",
       "       'cycles_to_calories', 'unknown_7', 'resting_metabolic_rate',\n",
       "       'activity_type', 'unknown_8', 'unknown_35', 'unknown_36', 'unknown_37',\n",
       "       'unknown_38', 'unknown_253', 'enabled', 'unknown_2'],\n",
       "      dtype='object')"
      ]
     },
     "execution_count": 33,
     "metadata": {},
     "output_type": "execute_result"
    }
   ],
   "source": [
    "df.columns"
   ]
  },
  {
   "cell_type": "code",
   "execution_count": 29,
   "metadata": {},
   "outputs": [
    {
     "ename": "KeyError",
     "evalue": "['heart_rate']",
     "output_type": "error",
     "traceback": [
      "\u001b[0;31m---------------------------------------------------------------------------\u001b[0m",
      "\u001b[0;31mKeyError\u001b[0m                                  Traceback (most recent call last)",
      "\u001b[0;32m<ipython-input-29-d221fcb25b43>\u001b[0m in \u001b[0;36m<module>\u001b[0;34m\u001b[0m\n\u001b[0;32m----> 1\u001b[0;31m \u001b[0mlen\u001b[0m\u001b[0;34m(\u001b[0m\u001b[0mdf\u001b[0m\u001b[0;34m)\u001b[0m\u001b[0;34m,\u001b[0m \u001b[0mlen\u001b[0m\u001b[0;34m(\u001b[0m\u001b[0mdf\u001b[0m\u001b[0;34m.\u001b[0m\u001b[0mdropna\u001b[0m\u001b[0;34m(\u001b[0m\u001b[0msubset\u001b[0m\u001b[0;34m=\u001b[0m\u001b[0;34m[\u001b[0m\u001b[0;34m'heart_rate'\u001b[0m\u001b[0;34m]\u001b[0m\u001b[0;34m)\u001b[0m\u001b[0;34m)\u001b[0m\u001b[0;34m\u001b[0m\u001b[0;34m\u001b[0m\u001b[0m\n\u001b[0m",
      "\u001b[0;32m/Library/Frameworks/Python.framework/Versions/3.7/lib/python3.7/site-packages/pandas/core/frame.py\u001b[0m in \u001b[0;36mdropna\u001b[0;34m(self, axis, how, thresh, subset, inplace)\u001b[0m\n\u001b[1;32m   4857\u001b[0m                 \u001b[0mcheck\u001b[0m \u001b[0;34m=\u001b[0m \u001b[0mindices\u001b[0m \u001b[0;34m==\u001b[0m \u001b[0;34m-\u001b[0m\u001b[0;36m1\u001b[0m\u001b[0;34m\u001b[0m\u001b[0;34m\u001b[0m\u001b[0m\n\u001b[1;32m   4858\u001b[0m                 \u001b[0;32mif\u001b[0m \u001b[0mcheck\u001b[0m\u001b[0;34m.\u001b[0m\u001b[0many\u001b[0m\u001b[0;34m(\u001b[0m\u001b[0;34m)\u001b[0m\u001b[0;34m:\u001b[0m\u001b[0;34m\u001b[0m\u001b[0;34m\u001b[0m\u001b[0m\n\u001b[0;32m-> 4859\u001b[0;31m                     \u001b[0;32mraise\u001b[0m \u001b[0mKeyError\u001b[0m\u001b[0;34m(\u001b[0m\u001b[0mlist\u001b[0m\u001b[0;34m(\u001b[0m\u001b[0mnp\u001b[0m\u001b[0;34m.\u001b[0m\u001b[0mcompress\u001b[0m\u001b[0;34m(\u001b[0m\u001b[0mcheck\u001b[0m\u001b[0;34m,\u001b[0m \u001b[0msubset\u001b[0m\u001b[0;34m)\u001b[0m\u001b[0;34m)\u001b[0m\u001b[0;34m)\u001b[0m\u001b[0;34m\u001b[0m\u001b[0;34m\u001b[0m\u001b[0m\n\u001b[0m\u001b[1;32m   4860\u001b[0m                 \u001b[0magg_obj\u001b[0m \u001b[0;34m=\u001b[0m \u001b[0mself\u001b[0m\u001b[0;34m.\u001b[0m\u001b[0mtake\u001b[0m\u001b[0;34m(\u001b[0m\u001b[0mindices\u001b[0m\u001b[0;34m,\u001b[0m \u001b[0maxis\u001b[0m\u001b[0;34m=\u001b[0m\u001b[0magg_axis\u001b[0m\u001b[0;34m)\u001b[0m\u001b[0;34m\u001b[0m\u001b[0;34m\u001b[0m\u001b[0m\n\u001b[1;32m   4861\u001b[0m \u001b[0;34m\u001b[0m\u001b[0m\n",
      "\u001b[0;31mKeyError\u001b[0m: ['heart_rate']"
     ]
    }
   ],
   "source": [
    "len(df), len(df.dropna(subset=['heart_rate']))"
   ]
  },
  {
   "cell_type": "code",
   "execution_count": 22,
   "metadata": {},
   "outputs": [
    {
     "ename": "KeyError",
     "evalue": "['heart_rate']",
     "output_type": "error",
     "traceback": [
      "\u001b[0;31m---------------------------------------------------------------------------\u001b[0m",
      "\u001b[0;31mKeyError\u001b[0m                                  Traceback (most recent call last)",
      "\u001b[0;32m<ipython-input-22-d5fa27fdc3d8>\u001b[0m in \u001b[0;36m<module>\u001b[0;34m\u001b[0m\n\u001b[0;32m----> 1\u001b[0;31m \u001b[0mdf\u001b[0m\u001b[0;34m.\u001b[0m\u001b[0mdropna\u001b[0m\u001b[0;34m(\u001b[0m\u001b[0msubset\u001b[0m\u001b[0;34m=\u001b[0m\u001b[0;34m[\u001b[0m\u001b[0;34m'heart_rate'\u001b[0m\u001b[0;34m]\u001b[0m\u001b[0;34m)\u001b[0m\u001b[0;34m[\u001b[0m\u001b[0;34m[\u001b[0m\u001b[0;34m'timestamp_16'\u001b[0m\u001b[0;34m,\u001b[0m \u001b[0;34m'heart_rate'\u001b[0m\u001b[0;34m]\u001b[0m\u001b[0;34m]\u001b[0m\u001b[0;34m[\u001b[0m\u001b[0;34m'heart_rate'\u001b[0m\u001b[0;34m]\u001b[0m\u001b[0;34m.\u001b[0m\u001b[0mplot\u001b[0m\u001b[0;34m(\u001b[0m\u001b[0;34m)\u001b[0m\u001b[0;34m\u001b[0m\u001b[0;34m\u001b[0m\u001b[0m\n\u001b[0m",
      "\u001b[0;32m/Library/Frameworks/Python.framework/Versions/3.7/lib/python3.7/site-packages/pandas/core/frame.py\u001b[0m in \u001b[0;36mdropna\u001b[0;34m(self, axis, how, thresh, subset, inplace)\u001b[0m\n\u001b[1;32m   4857\u001b[0m                 \u001b[0mcheck\u001b[0m \u001b[0;34m=\u001b[0m \u001b[0mindices\u001b[0m \u001b[0;34m==\u001b[0m \u001b[0;34m-\u001b[0m\u001b[0;36m1\u001b[0m\u001b[0;34m\u001b[0m\u001b[0;34m\u001b[0m\u001b[0m\n\u001b[1;32m   4858\u001b[0m                 \u001b[0;32mif\u001b[0m \u001b[0mcheck\u001b[0m\u001b[0;34m.\u001b[0m\u001b[0many\u001b[0m\u001b[0;34m(\u001b[0m\u001b[0;34m)\u001b[0m\u001b[0;34m:\u001b[0m\u001b[0;34m\u001b[0m\u001b[0;34m\u001b[0m\u001b[0m\n\u001b[0;32m-> 4859\u001b[0;31m                     \u001b[0;32mraise\u001b[0m \u001b[0mKeyError\u001b[0m\u001b[0;34m(\u001b[0m\u001b[0mlist\u001b[0m\u001b[0;34m(\u001b[0m\u001b[0mnp\u001b[0m\u001b[0;34m.\u001b[0m\u001b[0mcompress\u001b[0m\u001b[0;34m(\u001b[0m\u001b[0mcheck\u001b[0m\u001b[0;34m,\u001b[0m \u001b[0msubset\u001b[0m\u001b[0;34m)\u001b[0m\u001b[0;34m)\u001b[0m\u001b[0;34m)\u001b[0m\u001b[0;34m\u001b[0m\u001b[0;34m\u001b[0m\u001b[0m\n\u001b[0m\u001b[1;32m   4860\u001b[0m                 \u001b[0magg_obj\u001b[0m \u001b[0;34m=\u001b[0m \u001b[0mself\u001b[0m\u001b[0;34m.\u001b[0m\u001b[0mtake\u001b[0m\u001b[0;34m(\u001b[0m\u001b[0mindices\u001b[0m\u001b[0;34m,\u001b[0m \u001b[0maxis\u001b[0m\u001b[0;34m=\u001b[0m\u001b[0magg_axis\u001b[0m\u001b[0;34m)\u001b[0m\u001b[0;34m\u001b[0m\u001b[0;34m\u001b[0m\u001b[0m\n\u001b[1;32m   4861\u001b[0m \u001b[0;34m\u001b[0m\u001b[0m\n",
      "\u001b[0;31mKeyError\u001b[0m: ['heart_rate']"
     ]
    }
   ],
   "source": [
    "df.dropna(subset=['heart_rate'])[['timestamp_16', 'heart_rate']]['heart_rate'].plot()"
   ]
  },
  {
   "cell_type": "code",
   "execution_count": 12,
   "metadata": {},
   "outputs": [],
   "source": [
    "import os\n",
    "\n",
    "for filename in os.listdir(path+extension):\n",
    "    if filename.endswith(\".fit\"):\n",
    "        fitfile = fitparse.FitFile(path+extension+filename, data_processor=fitparse.StandardUnitsDataProcessor())\n",
    "        messages = fitfile.messages\n",
    "        \n",
    "        data = []\n",
    "\n",
    "        for m in messages:\n",
    "            if not hasattr(m, 'fields'):\n",
    "                continue\n",
    "            fields = m.fields\n",
    "            mdata = {}\n",
    "            for field in fields:\n",
    "                mdata[field.name] = field.value\n",
    "                data.append(mdata)\n",
    "        df = pd.DataFrame(data)\n",
    "        df.columns\n",
    "    else:\n",
    "        continue"
   ]
  },
  {
   "cell_type": "code",
   "execution_count": null,
   "metadata": {},
   "outputs": [],
   "source": []
  }
 ],
 "metadata": {
  "kernelspec": {
   "display_name": "Python 3",
   "language": "python",
   "name": "python3"
  },
  "language_info": {
   "codemirror_mode": {
    "name": "ipython",
    "version": 3
   },
   "file_extension": ".py",
   "mimetype": "text/x-python",
   "name": "python",
   "nbconvert_exporter": "python",
   "pygments_lexer": "ipython3",
   "version": "3.7.4"
  }
 },
 "nbformat": 4,
 "nbformat_minor": 4
}
